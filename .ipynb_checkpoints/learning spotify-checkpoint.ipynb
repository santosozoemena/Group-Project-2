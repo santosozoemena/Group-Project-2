{
 "cells": [
  {
   "cell_type": "markdown",
   "metadata": {
    "collapsed": true
   },
   "source": [
    "Dependencies\n",
    "---"
   ]
  },
  {
   "cell_type": "code",
   "execution_count": 15,
   "metadata": {
    "collapsed": true
   },
   "outputs": [],
   "source": [
    "import spotipy\n",
    "import json\n",
    "import csv"
   ]
  },
  {
   "cell_type": "markdown",
   "metadata": {},
   "source": [
    "scraping from spotify playlist\n",
    "---"
   ]
  },
  {
   "cell_type": "code",
   "execution_count": 50,
   "metadata": {
    "collapsed": true,
    "scrolled": true
   },
   "outputs": [],
   "source": [
    "my_client_id = 'c989452a9f5340599006abe7a3e7bba4'\n",
    "my_secret = 'c11644740f3349edbf2da0d080130f4b'\n",
    "\n",
    "playlist_id = '6Lcab3knjOM4eT385ARODo'\n",
    "user_id = 'statecafe'\n",
    "\n",
    "sp = spotipy.Spotify()\n",
    "\n",
    "from spotipy.oauth2 import SpotifyClientCredentials\n",
    "cid = my_client_id\n",
    "secret = my_secret\n",
    "client_credentials_manager = SpotifyClientCredentials(client_id=cid, client_secret=secret)     \n",
    "\n",
    "sp = spotipy.Spotify(client_credentials_manager=client_credentials_manager)\n",
    "sp.trace=False\n",
    "\n",
    "def music_list():\n",
    "    playlist = sp.user_playlist(user_id, playlist_id)\n",
    "    songs = playlist[\"tracks\"][\"items\"]\n",
    "    ids = []\n",
    "    tracks=[]\n",
    "    for i in range(len(songs)):\n",
    "        ids.append(songs[i][\"track\"][\"id\"])\n",
    "        features = sp.audio_features(ids)\n",
    "        tracks.append(sp.audio_features(ids))\n",
    "        tracks.append(\"name\")\n",
    "        tracks.append(songs[i][\"track\"][\"name\"])\n",
    "    #output JSON\n",
    "    with open('output/music.json', 'w') as outfile:\n",
    "        json.dump(tracks, outfile)"
   ]
  },
  {
   "cell_type": "code",
   "execution_count": 51,
   "metadata": {},
   "outputs": [],
   "source": [
    "music_list()"
   ]
  },
  {
   "cell_type": "markdown",
   "metadata": {},
   "source": [
    "from json to csv\n",
    "---"
   ]
  },
  {
   "cell_type": "code",
   "execution_count": 78,
   "metadata": {
    "collapsed": true
   },
   "outputs": [],
   "source": [
    "def conversion():\n",
    "    \n",
    "    data_file = 'output/music.json'\n",
    "    \n",
    "    with open(data_file, 'r') as file:\n",
    "        data = json.load(file)\n",
    "        headers = list(data[0][0].keys())\n",
    "        headers.append('name')\n",
    "        print (headers)\n",
    "        \n",
    "        \n",
    "    \n",
    "    \n",
    "    with open('output/music.csv', 'w') as file_:\n",
    "        writer = csv.writer(file_, delimiter = ',')\n",
    "\n",
    "\n",
    "\n",
    "        writer.writerow(headers)\n",
    "        to_write = []\n",
    "        count = 0\n",
    "        \n",
    "        for x in data:\n",
    "            if type(x) is list:\n",
    "                to_write += list(x[count].values())\n",
    "                count+=1\n",
    "                \n",
    "            if type(x) is str and x != 'name':\n",
    "                to_write.append(x)\n",
    "                \n",
    "                writer.writerow(to_write)\n",
    "                to_write = []"
   ]
  },
  {
   "cell_type": "code",
   "execution_count": 79,
   "metadata": {},
   "outputs": [
    {
     "name": "stdout",
     "output_type": "stream",
     "text": [
      "['danceability', 'energy', 'key', 'loudness', 'mode', 'speechiness', 'acousticness', 'instrumentalness', 'liveness', 'valence', 'tempo', 'type', 'id', 'uri', 'track_href', 'analysis_url', 'duration_ms', 'time_signature', 'name']\n"
     ]
    }
   ],
   "source": [
    "conversion()"
   ]
  },
  {
   "cell_type": "markdown",
   "metadata": {},
   "source": [
    "analyze csv\n",
    "---"
   ]
  },
  {
   "cell_type": "code",
   "execution_count": null,
   "metadata": {},
   "outputs": [],
   "source": []
  },
  {
   "cell_type": "markdown",
   "metadata": {},
   "source": [
    "attempts\n",
    "---"
   ]
  },
  {
   "cell_type": "code",
   "execution_count": null,
   "metadata": {},
   "outputs": [],
   "source": []
  },
  {
   "cell_type": "code",
   "execution_count": null,
   "metadata": {
    "collapsed": true
   },
   "outputs": [],
   "source": []
  }
 ],
 "metadata": {
  "kernelspec": {
   "display_name": "Python 3",
   "language": "python",
   "name": "python3"
  },
  "language_info": {
   "codemirror_mode": {
    "name": "ipython",
    "version": 3
   },
   "file_extension": ".py",
   "mimetype": "text/x-python",
   "name": "python",
   "nbconvert_exporter": "python",
   "pygments_lexer": "ipython3",
   "version": "3.6.3"
  }
 },
 "nbformat": 4,
 "nbformat_minor": 2
}
