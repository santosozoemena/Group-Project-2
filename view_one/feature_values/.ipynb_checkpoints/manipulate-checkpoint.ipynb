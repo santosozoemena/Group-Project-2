{
 "cells": [
  {
   "cell_type": "code",
   "execution_count": 1,
   "metadata": {
    "collapsed": true
   },
   "outputs": [],
   "source": [
    "# python sql toolkit and Object Relational Mapper\n",
    "import sqlalchemy\n",
    "from sqlalchemy.ext.automap import automap_base\n",
    "from sqlalchemy.orm import Session\n",
    "from sqlalchemy import create_engine, inspect\n",
    "\n",
    "import pandas as pd"
   ]
  },
  {
   "cell_type": "code",
   "execution_count": 2,
   "metadata": {
    "collapsed": true
   },
   "outputs": [],
   "source": [
    "# create engine using database file\n",
    "engine = create_engine(\"sqlite:///spotify_data.sqlite\")"
   ]
  },
  {
   "cell_type": "markdown",
   "metadata": {},
   "source": [
    "explore database/ print table names\n",
    "---"
   ]
  },
  {
   "cell_type": "code",
   "execution_count": 3,
   "metadata": {
    "collapsed": true
   },
   "outputs": [],
   "source": [
    "inspector= inspect(engine)"
   ]
  },
  {
   "cell_type": "code",
   "execution_count": 4,
   "metadata": {},
   "outputs": [
    {
     "data": {
      "text/plain": [
       "['spotify_table']"
      ]
     },
     "execution_count": 4,
     "metadata": {},
     "output_type": "execute_result"
    }
   ],
   "source": [
    "inspector.get_table_names()"
   ]
  },
  {
   "cell_type": "code",
   "execution_count": 5,
   "metadata": {},
   "outputs": [
    {
     "name": "stdout",
     "output_type": "stream",
     "text": [
      "id INTEGER\n",
      "Date INTEGER\n",
      "Position INTEGER\n",
      "Streams INTEGER\n",
      "Track_name VARCHAR\n",
      "Artist TEXT\n",
      "Region TEXT\n",
      "URL TEXT\n",
      "RELEASE INTEGER\n",
      "BPM INTEGER\n",
      "ENERGY INTEGER\n",
      "LOUD INTEGER\n",
      "DANCE INTEGER\n",
      "VALENCE INTEGER\n",
      "LENGTH FLOAT\n",
      "ACOUSTIC INTEGER\n",
      "POP INTEGER\n",
      "Population INTEGER\n",
      "Country_Primary_Language TEXT\n",
      "Latitude INTEGER\n",
      "Longitude INTEGER\n",
      "Normalized_streams FLOAT\n"
     ]
    }
   ],
   "source": [
    "columns = inspector.get_columns('spotify_table')\n",
    "for column in columns:\n",
    "    print(column['name'], column['type'])"
   ]
  },
  {
   "cell_type": "code",
   "execution_count": 6,
   "metadata": {},
   "outputs": [
    {
     "data": {
      "text/plain": [
       "[(1, 42736, 1, 19272, None, 'CNCO', 'Ecuador', 'https://open.spotify.com/track/3AEZUABDXNtecAOSC1qTfo', 42608, 94, 84, -3, 76, 71, 0.154861111, 40, 81, 16290913, 'Spanish', -1.8312389999999998, -78.183406, None),\n",
       " (2, 42736, 2, 19270, None, 'Shakira', 'Ecuador', 'https://open.spotify.com/track/6mICuAdrwEjh6Y6lroV2Kg', 42881, 102, 77, -3, 85, 91, 0.136111111, 19, 83, 16290913, 'Spanish', -1.8312389999999998, -78.183406, None),\n",
       " (3, 42736, 3, 15761, None, 'Zion & Lennox', 'Ecuador', 'https://open.spotify.com/track/3QwBODjSEzelZyVjxPOHdq', 42643, 96, 77, -5, 83, 70, 0.145138889, 6, 81, 16290913, 'Spanish', -1.8312389999999998, -78.183406, None),\n",
       " (4, 42736, 4, 14954, None, 'Ricky Martin', 'Ecuador', 'https://open.spotify.com/track/7DM4BPaS7uofFul3ywMe46', 42636, 100, 92, -4, 66, 53, 0.17986111100000002, 0, 80, 16290913, 'Spanish', -1.8312389999999998, -78.183406, None),\n",
       " (5, 42736, 5, 14269, None, 'J Balvin', 'Ecuador', 'https://open.spotify.com/track/6rQSrBHf7HlZjtcMZ4S4bO', 42545, 180, 69, -4, 71, 63, 0.143055556, 53, 73, 16290913, 'Spanish', -1.8312389999999998, -78.183406, None),\n",
       " (6, 42736, 6, 12843, None, 'Carlos Vives', 'Ecuador', 'https://open.spotify.com/track/0sXvAOmXgjR2QUqLK1MltU', 42881, 180, 96, -2, 74, 95, 0.15833333300000002, 20, 73, 16290913, 'Spanish', -1.8312389999999998, -78.183406, None),\n",
       " (7, 42736, 7, 10986, None, 'IAmChino', 'Ecuador', 'https://open.spotify.com/track/6stYbAJgTszHAHZMPxWWCY', 42422, 92, 83, -3, 76, 81, 0.175, 17, 63, 16290913, 'Spanish', -1.8312389999999998, -78.183406, None),\n",
       " (8, 42736, 8, 10653, None, 'Chino & Nacho', 'Ecuador', 'https://open.spotify.com/track/5mey7CLLuFToM2P68Qu1gF', 42419, 104, 95, -2, 68, 53, 0.17152777800000002, 3, 71, 16290913, 'Spanish', -1.8312389999999998, -78.183406, None),\n",
       " (9, 42736, 9, 9807, None, 'Sebastian Yatra', 'Ecuador', 'https://open.spotify.com/track/5J1c3M4EldCfNxXwrwt8mT', 42545, 91, 67, -5, 78, 66, 0.15833333300000002, 14, 75, 16290913, 'Spanish', -1.8312389999999998, -78.183406, None),\n",
       " (10, 42736, 10, 9612, None, 'Daddy Yankee', 'Ecuador', 'https://open.spotify.com/track/58IL315gMSTD37DOZPJ2hf', 42468, 88, 63, -4, 89, 86, 0.1625, 6, 68, 16290913, 'Spanish', -1.8312389999999998, -78.183406, None)]"
      ]
     },
     "execution_count": 6,
     "metadata": {},
     "output_type": "execute_result"
    }
   ],
   "source": [
    "#engine.execute to see from table\n",
    "engine.execute('select * from spotify_table limit 10').fetchall()"
   ]
  },
  {
   "cell_type": "markdown",
   "metadata": {},
   "source": [
    "reflect database and query\n",
    "---"
   ]
  },
  {
   "cell_type": "code",
   "execution_count": 7,
   "metadata": {
    "collapsed": true
   },
   "outputs": [],
   "source": [
    "#reflect an existing database into a new model\n",
    "Base = automap_base()\n",
    "\n",
    "#reflect the tables\n",
    "Base.prepare(engine, reflect = True)\n",
    "\n",
    "# save reference, assigning the class to the variable `music`\n",
    "Music = Base.classes.spotify_table"
   ]
  },
  {
   "cell_type": "code",
   "execution_count": 8,
   "metadata": {
    "collapsed": true
   },
   "outputs": [],
   "source": [
    "#create our session (link) from python to the DB\n",
    "session = Session(engine)"
   ]
  },
  {
   "cell_type": "code",
   "execution_count": 9,
   "metadata": {},
   "outputs": [
    {
     "data": {
      "text/plain": [
       "['spotify_table']"
      ]
     },
     "execution_count": 9,
     "metadata": {},
     "output_type": "execute_result"
    }
   ],
   "source": [
    "# printing table name again, using automap\n",
    "Base.classes.keys()"
   ]
  },
  {
   "cell_type": "markdown",
   "metadata": {},
   "source": [
    "---"
   ]
  },
  {
   "cell_type": "markdown",
   "metadata": {},
   "source": [
    "using \"from sqlalchemy import inspect\" to understand sqlite database\n",
    "\n",
    "inspector = inspect(engine)\n",
    "\n",
    "print(inspector.get_table_names())\n",
    "\n",
    "columns = inspector.get_columns('spotify_table')\n",
    "for column in columns:\n",
    "    print(column['name'], column['type'])"
   ]
  },
  {
   "cell_type": "markdown",
   "metadata": {},
   "source": [
    "---"
   ]
  },
  {
   "cell_type": "code",
   "execution_count": 10,
   "metadata": {},
   "outputs": [
    {
     "name": "stdout",
     "output_type": "stream",
     "text": [
      "Ecuador\n",
      "France\n",
      "Argentina\n",
      "Finland\n",
      "Norway\n",
      "Italy\n",
      "Lituania\n",
      "Phillipines\n",
      "Taiwan\n",
      "New Zealand\n",
      "Estonia\n",
      "Turkey\n",
      "United States of America\n",
      "El Salvador\n",
      "Costa Rica\n",
      "Germany\n",
      "Chile\n"
     ]
    }
   ],
   "source": [
    "regions = [\n",
    "    'Ecuador',\n",
    "    'France',\n",
    "    'Argentina',\n",
    "    'Finland',\n",
    "    'Norway',\n",
    "    'Italy',\n",
    "    'Lituania',\n",
    "    'Phillipines',\n",
    "    'Taiwan',\n",
    "    'New Zealand',\n",
    "    'Estonia',\n",
    "    'Turkey',\n",
    "    'United States of America',\n",
    "    'El Salvador',\n",
    "    'Costa Rica',\n",
    "    'Germany',\n",
    "    'Chile'\n",
    "]\n",
    "\n",
    "sel = [\n",
    "    Music.ENERGY,\n",
    "    Music. BPM,\n",
    "    Music.DANCE,\n",
    "    Music.ACOUSTIC,\n",
    "    Music.POP\n",
    "]\n",
    "\n",
    "features = []\n",
    "for region in regions:\n",
    "    features.append({\n",
    "        region : session.query(*sel).filter(Music.Region == region).all()  \n",
    "    })\n",
    "    \n",
    "    print (region)"
   ]
  },
  {
   "cell_type": "markdown",
   "metadata": {},
   "source": [
    "features\n",
    "---"
   ]
  },
  {
   "cell_type": "markdown",
   "metadata": {
    "collapsed": true
   },
   "source": [
    "ecuador_intensity = []\n",
    "\n",
    "ecuador_features = features[0]['Ecuador']\n",
    "ecuador_features = pd.DataFrame(ecuador_features)\n",
    "\n",
    "for key in ecuador_features:\n",
    "    ecuador_intensity.append({\n",
    "        key: ecuador_features[key].sum()\n",
    "    })\n",
    "ecuador_intensity"
   ]
  },
  {
   "cell_type": "code",
   "execution_count": 16,
   "metadata": {
    "scrolled": true
   },
   "outputs": [
    {
     "data": {
      "text/plain": [
       "[{'ENERGY': 650026},\n",
       " {'BPM': 918829},\n",
       " {'DANCE': 676724},\n",
       " {'ACOUSTIC': 276707},\n",
       " {'POP': 640926}]"
      ]
     },
     "execution_count": 16,
     "metadata": {},
     "output_type": "execute_result"
    }
   ],
   "source": [
    "france_intensity = []\n",
    "\n",
    "france_features = features[1]['France']\n",
    "france_features = pd.DataFrame(france_features)\n",
    "\n",
    "for key in france_features:\n",
    "    france_intensity.append({\n",
    "        key: france_features[key].sum()\n",
    "    })\n",
    "france_intensity"
   ]
  },
  {
   "cell_type": "code",
   "execution_count": 42,
   "metadata": {},
   "outputs": [
    {
     "data": {
      "text/plain": [
       "[{'ENERGY': 714382},\n",
       " {'BPM': 1087232},\n",
       " {'DANCE': 682085},\n",
       " {'ACOUSTIC': 204606},\n",
       " {'POP': 719393}]"
      ]
     },
     "execution_count": 42,
     "metadata": {},
     "output_type": "execute_result"
    }
   ],
   "source": [
    "argentina_intensity = []\n",
    "\n",
    "argentina_features = features[2]['Argentina']\n",
    "argentina_features = pd.DataFrame(argentina_features)\n",
    "\n",
    "for key in argentina_features:\n",
    "    argentina_intensity.append({\n",
    "        key: argentina_features[key].sum()\n",
    "    })\n",
    "argentina_intensity"
   ]
  },
  {
   "cell_type": "code",
   "execution_count": 44,
   "metadata": {},
   "outputs": [
    {
     "data": {
      "text/plain": [
       "[{'ENERGY': 657248},\n",
       " {'BPM': 922255},\n",
       " {'DANCE': 683101},\n",
       " {'ACOUSTIC': 280496},\n",
       " {'POP': 633869}]"
      ]
     },
     "execution_count": 44,
     "metadata": {},
     "output_type": "execute_result"
    }
   ],
   "source": [
    "finland_intensity = []\n",
    "\n",
    "finland_features = features[3]['Finland']\n",
    "finland_features = pd.DataFrame(finland_features)\n",
    "\n",
    "for key in finland_features:\n",
    "    finland_intensity.append({\n",
    "        key: finland_features[key].sum()\n",
    "    })\n",
    "finland_intensity"
   ]
  },
  {
   "cell_type": "code",
   "execution_count": 46,
   "metadata": {},
   "outputs": [
    {
     "data": {
      "text/plain": [
       "[{'ENERGY': 655047},\n",
       " {'BPM': 942037},\n",
       " {'DANCE': 665189},\n",
       " {'ACOUSTIC': 260106},\n",
       " {'POP': 634451}]"
      ]
     },
     "execution_count": 46,
     "metadata": {},
     "output_type": "execute_result"
    }
   ],
   "source": [
    "norway_intensity = []\n",
    "\n",
    "norway_features = features[4]['Norway']\n",
    "norway_features = pd.DataFrame(norway_features)\n",
    "\n",
    "for key in norway_features:\n",
    "    norway_intensity.append({\n",
    "        key: norway_features[key].sum()\n",
    "    })\n",
    "norway_intensity"
   ]
  },
  {
   "cell_type": "code",
   "execution_count": 47,
   "metadata": {},
   "outputs": [
    {
     "data": {
      "text/plain": [
       "[{'ENERGY': 669010},\n",
       " {'BPM': 973548},\n",
       " {'DANCE': 659072},\n",
       " {'ACOUSTIC': 229337},\n",
       " {'POP': 631606}]"
      ]
     },
     "execution_count": 47,
     "metadata": {},
     "output_type": "execute_result"
    }
   ],
   "source": [
    "italy_intensity = []\n",
    "\n",
    "italy_features = features[5]['Italy']\n",
    "italy_features = pd.DataFrame(italy_features)\n",
    "\n",
    "for key in italy_features:\n",
    "    italy_intensity.append({\n",
    "        key: italy_features[key].sum()\n",
    "    })\n",
    "italy_intensity"
   ]
  },
  {
   "cell_type": "code",
   "execution_count": 48,
   "metadata": {},
   "outputs": [
    {
     "data": {
      "text/plain": [
       "[]"
      ]
     },
     "execution_count": 48,
     "metadata": {},
     "output_type": "execute_result"
    }
   ],
   "source": [
    "lituania_intensity = []\n",
    "\n",
    "lituania_features = features[6]['Lituania']\n",
    "lituania_features = pd.DataFrame(lituania_features)\n",
    "\n",
    "for key in lituania_features:\n",
    "    lituania_intensity.append({\n",
    "        key: lituania_features[key].sum()\n",
    "    })\n",
    "lituania_intensity"
   ]
  },
  {
   "cell_type": "code",
   "execution_count": 50,
   "metadata": {},
   "outputs": [
    {
     "data": {
      "text/plain": [
       "[{'ENERGY': 651958},\n",
       " {'BPM': 973883},\n",
       " {'DANCE': 666657},\n",
       " {'ACOUSTIC': 225373},\n",
       " {'POP': 640343}]"
      ]
     },
     "execution_count": 50,
     "metadata": {},
     "output_type": "execute_result"
    }
   ],
   "source": [
    "phillipines_intensity = []\n",
    "\n",
    "phillipines_features = features[7]['Phillipines']\n",
    "phillipines_features = pd.DataFrame(phillipines_features)\n",
    "\n",
    "for key in phillipines_features:\n",
    "    phillipines_intensity.append({\n",
    "        key: phillipines_features[key].sum()\n",
    "    })\n",
    "phillipines_intensity"
   ]
  },
  {
   "cell_type": "code",
   "execution_count": 52,
   "metadata": {},
   "outputs": [
    {
     "data": {
      "text/plain": [
       "[{'ENERGY': 653930},\n",
       " {'BPM': 972648},\n",
       " {'DANCE': 656299},\n",
       " {'ACOUSTIC': 232484},\n",
       " {'POP': 640777}]"
      ]
     },
     "execution_count": 52,
     "metadata": {},
     "output_type": "execute_result"
    }
   ],
   "source": [
    "taiwan_intensity = []\n",
    "\n",
    "taiwan_features = features[8]['Taiwan']\n",
    "taiwan_features = pd.DataFrame(taiwan_features)\n",
    "\n",
    "for key in taiwan_features:\n",
    "    taiwan_intensity.append({\n",
    "        key: taiwan_features[key].sum()\n",
    "    })\n",
    "taiwan_intensity"
   ]
  },
  {
   "cell_type": "code",
   "execution_count": 53,
   "metadata": {},
   "outputs": [
    {
     "data": {
      "text/plain": [
       "[{'ENERGY': 651432},\n",
       " {'BPM': 963709},\n",
       " {'DANCE': 651229},\n",
       " {'ACOUSTIC': 238075},\n",
       " {'POP': 641027}]"
      ]
     },
     "execution_count": 53,
     "metadata": {},
     "output_type": "execute_result"
    }
   ],
   "source": [
    "zealand_intensity = []\n",
    "\n",
    "zealand_features = features[9]['New Zealand']\n",
    "zealand_features = pd.DataFrame(zealand_features)\n",
    "\n",
    "for key in zealand_features:\n",
    "    zealand_intensity.append({\n",
    "        key: zealand_features[key].sum()\n",
    "    })\n",
    "zealand_intensity"
   ]
  },
  {
   "cell_type": "code",
   "execution_count": 54,
   "metadata": {},
   "outputs": [
    {
     "data": {
      "text/plain": [
       "[{'ENERGY': 463923},\n",
       " {'BPM': 700444},\n",
       " {'DANCE': 456655},\n",
       " {'ACOUSTIC': 164705},\n",
       " {'POP': 445872}]"
      ]
     },
     "execution_count": 54,
     "metadata": {},
     "output_type": "execute_result"
    }
   ],
   "source": [
    "estonia_intensity = []\n",
    "\n",
    "estonia_features = features[10]['Estonia']\n",
    "estonia_features = pd.DataFrame(estonia_features)\n",
    "\n",
    "for key in estonia_features:\n",
    "    estonia_intensity.append({\n",
    "        key: estonia_features[key].sum()\n",
    "    })\n",
    "estonia_intensity"
   ]
  },
  {
   "cell_type": "code",
   "execution_count": 55,
   "metadata": {},
   "outputs": [
    {
     "data": {
      "text/plain": [
       "[{'ENERGY': 657043},\n",
       " {'BPM': 970407},\n",
       " {'DANCE': 658460},\n",
       " {'ACOUSTIC': 247656},\n",
       " {'POP': 600347}]"
      ]
     },
     "execution_count": 55,
     "metadata": {},
     "output_type": "execute_result"
    }
   ],
   "source": [
    "turkey_intensity = []\n",
    "\n",
    "turkey_features = features[11]['Turkey']\n",
    "turkey_features = pd.DataFrame(turkey_features)\n",
    "\n",
    "for key in turkey_features:\n",
    "    turkey_intensity.append({\n",
    "        key: turkey_features[key].sum()\n",
    "    })\n",
    "turkey_intensity"
   ]
  },
  {
   "cell_type": "code",
   "execution_count": 57,
   "metadata": {},
   "outputs": [
    {
     "data": {
      "text/plain": [
       "[{'ENERGY': 633042},\n",
       " {'BPM': 929951},\n",
       " {'DANCE': 674815},\n",
       " {'ACOUSTIC': 269128},\n",
       " {'POP': 655540}]"
      ]
     },
     "execution_count": 57,
     "metadata": {},
     "output_type": "execute_result"
    }
   ],
   "source": [
    "america_intensity = []\n",
    "\n",
    "america_features = features[12]['United States of America']\n",
    "america_features = pd.DataFrame(america_features)\n",
    "\n",
    "for key in america_features:\n",
    "    america_intensity.append({\n",
    "        key: america_features[key].sum()\n",
    "    })\n",
    "america_intensity"
   ]
  },
  {
   "cell_type": "code",
   "execution_count": 59,
   "metadata": {},
   "outputs": [
    {
     "data": {
      "text/plain": [
       "[{'ENERGY': 698639},\n",
       " {'BPM': 1124162},\n",
       " {'DANCE': 669231},\n",
       " {'ACOUSTIC': 185149},\n",
       " {'POP': 714964}]"
      ]
     },
     "execution_count": 59,
     "metadata": {},
     "output_type": "execute_result"
    }
   ],
   "source": [
    "salvador_intensity = []\n",
    "\n",
    "salvador_features = features[13]['El Salvador']\n",
    "salvador_features = pd.DataFrame(salvador_features)\n",
    "\n",
    "for key in salvador_features:\n",
    "    salvador_intensity.append({\n",
    "        key: salvador_features[key].sum()\n",
    "    })\n",
    "salvador_intensity"
   ]
  },
  {
   "cell_type": "code",
   "execution_count": 60,
   "metadata": {},
   "outputs": [
    {
     "data": {
      "text/plain": [
       "[{'ENERGY': 686507},\n",
       " {'BPM': 1090946},\n",
       " {'DANCE': 662276},\n",
       " {'ACOUSTIC': 177978},\n",
       " {'POP': 701182}]"
      ]
     },
     "execution_count": 60,
     "metadata": {},
     "output_type": "execute_result"
    }
   ],
   "source": [
    "costa_intensity = []\n",
    "\n",
    "costa_features = features[14]['Costa Rica']\n",
    "costa_features = pd.DataFrame(costa_features)\n",
    "\n",
    "for key in costa_features:\n",
    "    costa_intensity.append({\n",
    "        key: costa_features[key].sum()\n",
    "    })\n",
    "costa_intensity"
   ]
  },
  {
   "cell_type": "code",
   "execution_count": 61,
   "metadata": {},
   "outputs": [
    {
     "data": {
      "text/plain": [
       "[{'ENERGY': 652763},\n",
       " {'BPM': 957322},\n",
       " {'DANCE': 658511},\n",
       " {'ACOUSTIC': 257889},\n",
       " {'POP': 628085}]"
      ]
     },
     "execution_count": 61,
     "metadata": {},
     "output_type": "execute_result"
    }
   ],
   "source": [
    "germany_intensity = []\n",
    "\n",
    "germany_features = features[15]['Germany']\n",
    "germany_features = pd.DataFrame(germany_features)\n",
    "\n",
    "for key in germany_features:\n",
    "    germany_intensity.append({\n",
    "        key: germany_features[key].sum()\n",
    "    })\n",
    "germany_intensity"
   ]
  },
  {
   "cell_type": "code",
   "execution_count": 62,
   "metadata": {},
   "outputs": [
    {
     "data": {
      "text/plain": [
       "[{'ENERGY': 149840},\n",
       " {'BPM': 228779},\n",
       " {'DANCE': 143301},\n",
       " {'ACOUSTIC': 40094},\n",
       " {'POP': 146196}]"
      ]
     },
     "execution_count": 62,
     "metadata": {},
     "output_type": "execute_result"
    }
   ],
   "source": [
    "chile_intensity = []\n",
    "\n",
    "chile_features = features[16]['Chile']\n",
    "chile_features = pd.DataFrame(chile_features)\n",
    "\n",
    "for key in chile_features:\n",
    "    chile_intensity.append({\n",
    "        key: chile_features[key].sum()\n",
    "    })\n",
    "chile_intensity"
   ]
  },
  {
   "cell_type": "code",
   "execution_count": null,
   "metadata": {
    "collapsed": true
   },
   "outputs": [],
   "source": []
  }
 ],
 "metadata": {
  "kernelspec": {
   "display_name": "Python 3",
   "language": "python",
   "name": "python3"
  },
  "language_info": {
   "codemirror_mode": {
    "name": "ipython",
    "version": 3
   },
   "file_extension": ".py",
   "mimetype": "text/x-python",
   "name": "python",
   "nbconvert_exporter": "python",
   "pygments_lexer": "ipython3",
   "version": "3.6.3"
  }
 },
 "nbformat": 4,
 "nbformat_minor": 2
}
