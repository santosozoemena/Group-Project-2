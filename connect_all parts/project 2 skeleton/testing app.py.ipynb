{
 "cells": [
  {
   "cell_type": "code",
   "execution_count": 1,
   "metadata": {
    "collapsed": true
   },
   "outputs": [],
   "source": [
    "from sqlalchemy import func\n",
    "import datetime as dt\n",
    "import numpy as np\n",
    "import pandas as pd\n",
    "\n",
    "from flask import (\n",
    "    Flask,\n",
    "    render_template,\n",
    "    jsonify,\n",
    "    request,\n",
    "    redirect)\n",
    "\n",
    "#################################################\n",
    "# Flask Setup\n",
    "#################################################\n",
    "app = Flask(__name__)\n",
    "\n",
    "#################################################\n",
    "# Database Setup\n",
    "#################################################"
   ]
  },
  {
   "cell_type": "code",
   "execution_count": 2,
   "metadata": {
    "collapsed": true
   },
   "outputs": [],
   "source": [
    "from flask_sqlalchemy import SQLAlchemy\n",
    "app.config['SQLALCHEMY_DATABASE_URI'] = \"sqlite:///db/spotify_data.sqlite\""
   ]
  },
  {
   "cell_type": "code",
   "execution_count": 3,
   "metadata": {},
   "outputs": [
    {
     "name": "stderr",
     "output_type": "stream",
     "text": [
      "C:\\Users\\ahmed_oz98996\\Anaconda3\\lib\\site-packages\\flask_sqlalchemy\\__init__.py:794: FSADeprecationWarning: SQLALCHEMY_TRACK_MODIFICATIONS adds significant overhead and will be disabled by default in the future.  Set it to True or False to suppress this warning.\n",
      "  'SQLALCHEMY_TRACK_MODIFICATIONS adds significant overhead and '\n"
     ]
    }
   ],
   "source": [
    "db = SQLAlchemy(app)"
   ]
  },
  {
   "cell_type": "code",
   "execution_count": 5,
   "metadata": {},
   "outputs": [],
   "source": [
    "class Music(db.Model):\n",
    "    __tablename__ = 'spotify_table'\n",
    "    \n",
    "    id = db.Column(db.Integer, primary_key = True)\n",
    "    Date = db.Column(db.Integer)\n",
    "    Position = db.Column(db.Integer)\n",
    "    Streams = db.Column(db.Integer)\n",
    "    Track_name = db.Column(db.String)\n",
    "    Artist = db.Column(db.String)\n",
    "    Region = db.Column(db.String)\n",
    "    URL = db.Column(db.String)\n",
    "    RELEASE = db.Column(db.Integer)\n",
    "    BPM = db.Column(db.Integer)\n",
    "    ENERGY = db.Column(db.Integer)\n",
    "    LOUD = db.Column(db.Integer)\n",
    "    DANCE = db.Column(db.Integer)\n",
    "    VALENCE = db.Column(db.Integer)\n",
    "    LENGTH = db.Column(db.Float)\n",
    "    ACOUSTIC = db.Column(db.Integer)\n",
    "    POP = db.Column(db.Integer)\n",
    "    Population = db.Column(db.Integer)\n",
    "    Country_Primary_Language = db.Column(db.String)\n",
    "    Latitude = db.Column(db.Integer)\n",
    "    Longitude = db.Column(db.Integer)\n",
    "    Normalized_streams = db.Column(db.Float)\n",
    "    \n",
    "    \n",
    "    def __repr__(self):\n",
    "        return f\"id={self.id}, name={self.name}\""
   ]
  },
  {
   "cell_type": "code",
   "execution_count": 6,
   "metadata": {
    "collapsed": true
   },
   "outputs": [],
   "source": [
    "def data():\n",
    "    sel = [func.strftime(\"%Y\", Music.Date), func.count(Music.Date)]\n",
    "    results = db.session.query(*sel).\\\n",
    "        group_by(func.strftime(\"%Y\", Music.Date)).all()\n",
    "    df = pd.DataFrame(results, columns=['months', 'sightings'])\n",
    "    return jsonify(df.to_dict(orient=\"records\"))"
   ]
  },
  {
   "cell_type": "code",
   "execution_count": 10,
   "metadata": {},
   "outputs": [
    {
     "data": {
      "text/plain": [
       "<function __main__.data>"
      ]
     },
     "execution_count": 10,
     "metadata": {},
     "output_type": "execute_result"
    }
   ],
   "source": [
    "data"
   ]
  },
  {
   "cell_type": "code",
   "execution_count": null,
   "metadata": {
    "collapsed": true
   },
   "outputs": [],
   "source": []
  }
 ],
 "metadata": {
  "kernelspec": {
   "display_name": "Python 3",
   "language": "python",
   "name": "python3"
  },
  "language_info": {
   "codemirror_mode": {
    "name": "ipython",
    "version": 3
   },
   "file_extension": ".py",
   "mimetype": "text/x-python",
   "name": "python",
   "nbconvert_exporter": "python",
   "pygments_lexer": "ipython3",
   "version": "3.6.2"
  }
 },
 "nbformat": 4,
 "nbformat_minor": 2
}
