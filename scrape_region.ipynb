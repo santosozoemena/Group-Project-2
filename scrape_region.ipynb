{
 "cells": [
  {
   "cell_type": "markdown",
   "metadata": {},
   "source": [
    "scraping 'https://spotifycharts.com/regional' to create list of regional top tracks \n",
    "\n",
    "now trying to automate the process of finding top tracks based on region by using the 'browser.click_link_by_partial_text' method"
   ]
  },
  {
   "cell_type": "markdown",
   "metadata": {},
   "source": [
    "initial scrape, homepage\n",
    "---"
   ]
  },
  {
   "cell_type": "code",
   "execution_count": 1,
   "metadata": {
    "collapsed": true
   },
   "outputs": [],
   "source": [
    "from splinter import Browser\n",
    "from bs4 import BeautifulSoup\n",
    "\n",
    "executable_path = {'executable_path': 'chromedriver.exe'}\n",
    "browser = Browser('chrome', **executable_path, headless = False)"
   ]
  },
  {
   "cell_type": "code",
   "execution_count": 7,
   "metadata": {
    "collapsed": true
   },
   "outputs": [],
   "source": [
    "spotify_url = 'https://spotifycharts.com/regional'\n",
    "browser.visit(spotify_url)\n",
    "\n",
    "html = browser.html\n",
    "soup = BeautifulSoup(html, 'html.parser')"
   ]
  },
  {
   "cell_type": "code",
   "execution_count": 8,
   "metadata": {
    "collapsed": true
   },
   "outputs": [],
   "source": [
    "spotify_main = soup.find_all(class_ = 'chart-table-track')"
   ]
  },
  {
   "cell_type": "code",
   "execution_count": 17,
   "metadata": {},
   "outputs": [
    {
     "data": {
      "text/plain": [
       "[\"God's Plan\",\n",
       " 'Psycho (feat. Ty Dolla $ign)',\n",
       " 'SAD!',\n",
       " 'FRIENDS',\n",
       " 'IDGAF',\n",
       " 'All The Stars (with SZA)',\n",
       " 'X',\n",
       " 'The Middle',\n",
       " 'Look Alive (feat. Drake)',\n",
       " 'Mine',\n",
       " 'These Days (feat. Jess Glynne, Macklemore & Dan Caplen)',\n",
       " 'Love Lies (with Normani)',\n",
       " 'rockstar',\n",
       " 'Moonlight',\n",
       " 'Havana',\n",
       " 'Pray For Me (with Kendrick Lamar)',\n",
       " 'Dura',\n",
       " 'Meant to Be (feat. Florida Georgia Line)',\n",
       " 'Never Be the Same',\n",
       " 'Everyday',\n",
       " 'Me Niego',\n",
       " 'Stir Fry',\n",
       " 'New Rules',\n",
       " 'Amorfoda',\n",
       " 'Freaky Friday (feat. Chris Brown)',\n",
       " 'Finesse (Remix) [feat. Cardi B]',\n",
       " 'Échame La Culpa',\n",
       " 'Plug Walk',\n",
       " 'Like I Do',\n",
       " 'River (feat. Ed Sheeran)',\n",
       " 'Perfect',\n",
       " 'changes',\n",
       " 'Sick Boy',\n",
       " 'Wolves',\n",
       " 'Say Something',\n",
       " 'Bella',\n",
       " 'Ric Flair Drip (& Metro Boomin)',\n",
       " \"King's Dead (with Kendrick Lamar, Future & James Blake)\",\n",
       " 'I Fall Apart',\n",
       " 'Shape of You',\n",
       " 'For You (Fifty Shades Freed) (& Rita Ora)',\n",
       " 'Déjala Que Vuelva (feat. Manuel Turizo)',\n",
       " 'Heaven',\n",
       " 'the remedy for a broken heart (why am I so in love)',\n",
       " 'Capital Letters',\n",
       " 'Let You Down',\n",
       " 'Breathe',\n",
       " 'Let Me Go (with Alesso, Florida Georgia Line & watt)',\n",
       " 'Downtown',\n",
       " 'Feel It Still',\n",
       " 'Everybody Hates Me',\n",
       " 'Síguelo Bailando',\n",
       " 'Walk It Talk It',\n",
       " 'Corazón',\n",
       " 'Mad Love',\n",
       " 'Remind Me to Forget',\n",
       " '44 More',\n",
       " 'Powerglide (feat. Juicy J)',\n",
       " 'Delicate',\n",
       " 'Thunder',\n",
       " '1, 2, 3 (feat. Jason Derulo & De La Ghetto)',\n",
       " 'NUMB',\n",
       " 'I Miss You (feat. Julia Michaels)',\n",
       " 'Criminal',\n",
       " 'Him & I (with Halsey)',\n",
       " 'Too Good At Goodbyes',\n",
       " 'XO TOUR Llif3',\n",
       " 'Wait',\n",
       " 'Silence',\n",
       " 'going down!',\n",
       " 'Congratulations',\n",
       " 'Sensualidad',\n",
       " 'EL BAÑO',\n",
       " 'Believer',\n",
       " 'Jocelyn Flores',\n",
       " 'Dembow',\n",
       " 'I don’t even speak spanish lol',\n",
       " 'infinity (888)',\n",
       " 'Young Dumb & Broke',\n",
       " 'HUMBLE.',\n",
       " 'What Lovers Do (feat. SZA)',\n",
       " 'This Is Me',\n",
       " 'Anywhere',\n",
       " 'Rewrite The Stars',\n",
       " 'Bum Bum Tam Tam',\n",
       " 'Betrayed',\n",
       " 'Machika',\n",
       " 'Narcos',\n",
       " 'Hope',\n",
       " 'Perfect Duet (Ed Sheeran & Beyoncé)',\n",
       " 'Dusk Till Dawn - Radio Edit',\n",
       " 'El Préstamo',\n",
       " 'Candy Paint',\n",
       " 'Pick It Up (feat. A$AP Rocky)',\n",
       " 'Solita',\n",
       " 'How Long',\n",
       " \"Say You Won't Let Go\",\n",
       " 'Nowadays (feat. Landon Cube)',\n",
       " 'Unforgettable',\n",
       " 'I Like Me Better',\n",
       " 'Se Preparó',\n",
       " '1-800-273-8255',\n",
       " 'She Loves Control',\n",
       " 'So Far Away',\n",
       " '66',\n",
       " 'Nevermind',\n",
       " 'Bank Account',\n",
       " 'Tip Toe (feat. French Montana)',\n",
       " 'Something Just Like This',\n",
       " 'All Falls Down',\n",
       " 'Attention',\n",
       " 'El Farsante - Remix',\n",
       " 'Me Rehúso',\n",
       " 'Sorry Not Sorry',\n",
       " 'Esperándote',\n",
       " 'Whatever It Takes',\n",
       " 'Location',\n",
       " 'Fuck Love (feat. Trippie Redd)',\n",
       " '$$$',\n",
       " 'No Limit',\n",
       " 'Bounce Out With That',\n",
       " '1950',\n",
       " 'Done For Me (feat. Kehlani)',\n",
       " 'Want You Back',\n",
       " 'Loca Remix',\n",
       " 'One Dance',\n",
       " 'Contra',\n",
       " 'More Than You Know',\n",
       " 'goosebumps',\n",
       " 'Beautiful',\n",
       " 'Thinking Out Loud',\n",
       " 'Quiero Repetir',\n",
       " 'Gucci Gang',\n",
       " 'Mi Gente',\n",
       " 'ALONE, PART 3',\n",
       " 'Red Roses (feat. Landon Cube)',\n",
       " 'Lemon - Drake Remix',\n",
       " 'Báilame - Remix',\n",
       " 'Closer',\n",
       " 'MotorSport',\n",
       " 'Getting Over You',\n",
       " 'Photograph',\n",
       " 'Plain Jane',\n",
       " 'Stargazing',\n",
       " \"There's Nothing Holdin' Me Back\",\n",
       " 'Suena El Dembow',\n",
       " 'LOVE. FEAT. ZACARI.',\n",
       " 'Butterfly Effect',\n",
       " 'X (with 2 Chainz & Saudi)',\n",
       " 'Mayores',\n",
       " 'Déjate Llevar',\n",
       " 'Everybody Dies In Their Nightmares',\n",
       " 'Miss You (with Major Lazer & Tory Lanez)',\n",
       " 'Symphony (feat. Zara Larsson)',\n",
       " 'Issues',\n",
       " 'Bartier Cardi (feat. 21 Savage)',\n",
       " 'New Freezer (feat. Kendrick Lamar)',\n",
       " 'Despacito - Remix',\n",
       " 'Sky Walker',\n",
       " \"That's What I Like\",\n",
       " 'SUTRA',\n",
       " 'Strip That Down',\n",
       " 'Que Va',\n",
       " 'Bodak Yellow',\n",
       " 'Ahora',\n",
       " 'Go Flex',\n",
       " 'El Clavo',\n",
       " 'Te Amo',\n",
       " 'Naked',\n",
       " 'Roll In Peace (feat. XXXTENTACION)',\n",
       " 'Wonderwall - Remastered',\n",
       " 'Galway Girl',\n",
       " 'Robarte un Beso',\n",
       " 'Mr. Brightside',\n",
       " 'Lonely Together (feat. Rita Ora)',\n",
       " 'Passionfruit',\n",
       " 'Floor 555',\n",
       " 'La Player (Bandolera)',\n",
       " 'Codeine Dreaming (feat. Lil Wayne)',\n",
       " \"I'm the One\",\n",
       " 'Dreamer',\n",
       " 'Leave a Light On',\n",
       " 'before I close my eyes',\n",
       " 'Starboy',\n",
       " 'Barking',\n",
       " 'SMASH!',\n",
       " 'I Don’t Wanna Live Forever (Fifty Shades Darker) - From \"Fifty Shades Darker (Original Motion Picture Soundtrack)\"',\n",
       " \"I'm Yours\",\n",
       " 'BILLY',\n",
       " 'Top Off',\n",
       " 'I Get The Bag (feat. Migos)',\n",
       " 'What About Us',\n",
       " 'The Greatest Show',\n",
       " 'Scared to Be Lonely',\n",
       " 'Lose Yourself - Soundtrack Version',\n",
       " 'Africa',\n",
       " 'Marry Me',\n",
       " 'Midnight',\n",
       " 'Halo',\n",
       " 'Redbone']"
      ]
     },
     "execution_count": 17,
     "metadata": {},
     "output_type": "execute_result"
    }
   ],
   "source": [
    "spotify_main = soup.find_all('strong')\n",
    "\n",
    "track_title = []\n",
    "for element in spotify_main:\n",
    "    track_title.append(element.text)\n"
   ]
  },
  {
   "cell_type": "markdown",
   "metadata": {
    "collapsed": true
   },
   "source": [
    "create list of regions\n",
    "---"
   ]
  },
  {
   "cell_type": "code",
   "execution_count": null,
   "metadata": {
    "collapsed": true
   },
   "outputs": [],
   "source": [
    "spotify_url = 'https://spotifycharts.com/regional'\n",
    "browser.visit(spotify_url)\n",
    "\n",
    "html = browser.html\n",
    "soup = BeautifulSoup(html, 'html.parser')"
   ]
  },
  {
   "cell_type": "markdown",
   "metadata": {},
   "source": [
    "class = 'responsive-select active'\n",
    "\n",
    "li data-value = \"us\""
   ]
  },
  {
   "cell_type": "code",
   "execution_count": 2,
   "metadata": {},
   "outputs": [
    {
     "ename": "NameError",
     "evalue": "name 'soup' is not defined",
     "output_type": "error",
     "traceback": [
      "\u001b[1;31m---------------------------------------------------------------------------\u001b[0m",
      "\u001b[1;31mNameError\u001b[0m                                 Traceback (most recent call last)",
      "\u001b[1;32m<ipython-input-2-56dc9ecd645c>\u001b[0m in \u001b[0;36m<module>\u001b[1;34m()\u001b[0m\n\u001b[1;32m----> 1\u001b[1;33m \u001b[0mspotify_regions\u001b[0m \u001b[1;33m=\u001b[0m \u001b[0msoup\u001b[0m\u001b[1;33m.\u001b[0m\u001b[0mfind_all\u001b[0m\u001b[1;33m(\u001b[0m\u001b[0mclass_\u001b[0m \u001b[1;33m=\u001b[0m \u001b[1;34m'chart-filters-list'\u001b[0m\u001b[1;33m)\u001b[0m\u001b[1;33m\u001b[0m\u001b[0m\n\u001b[0m",
      "\u001b[1;31mNameError\u001b[0m: name 'soup' is not defined"
     ]
    }
   ],
   "source": [
    "spotify_regions = soup.find_all(class_ = 'chart-filters-list')     \n"
   ]
  },
  {
   "cell_type": "code",
   "execution_count": 28,
   "metadata": {
    "collapsed": true
   },
   "outputs": [],
   "source": [
    "spotify_regions = soup.find_all('li', class_ = \"\")\n",
    "regions = []\n",
    "\n",
    "for element in spotify_regions:\n",
    "    regions.append(element.text)\n",
    "    \n",
    "regions"
   ]
  },
  {
   "cell_type": "markdown",
   "metadata": {},
   "source": [
    "scrape top tracks by region list\n",
    "---"
   ]
  },
  {
   "cell_type": "code",
   "execution_count": null,
   "metadata": {
    "collapsed": true
   },
   "outputs": [],
   "source": []
  }
 ],
 "metadata": {
  "kernelspec": {
   "display_name": "Python 3",
   "language": "python",
   "name": "python3"
  },
  "language_info": {
   "codemirror_mode": {
    "name": "ipython",
    "version": 3
   },
   "file_extension": ".py",
   "mimetype": "text/x-python",
   "name": "python",
   "nbconvert_exporter": "python",
   "pygments_lexer": "ipython3",
   "version": "3.6.3"
  }
 },
 "nbformat": 4,
 "nbformat_minor": 2
}
